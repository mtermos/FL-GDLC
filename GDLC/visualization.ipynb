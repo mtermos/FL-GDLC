{
 "cells": [
  {
   "cell_type": "markdown",
   "metadata": {},
   "source": [
    "# Visualization for GDLC\n",
    "\n",
    "This notebook focuses on visualization of the distribution of attacks according to different complex network measures added as features to the dataset."
   ]
  },
  {
   "cell_type": "markdown",
   "metadata": {},
   "source": [
    "## Data Loading"
   ]
  },
  {
   "cell_type": "code",
   "execution_count": null,
   "metadata": {},
   "outputs": [],
   "source": [
    "import pandas as pd\n",
    "import numpy as np\n",
    "import matplotlib.pyplot as plt\n",
    "import networkx as nx\n",
    "\n",
    "from src.data.dataset_info import datasets\n",
    "\n",
    "# specifying the dataset\n",
    "dataset = datasets[0]\n",
    "name = dataset.name\n",
    "print(\"dataset: {}\".format(name))\n",
    "path = \"./datasets/preprocessed/{}.pkl\".format(name)\n",
    "# graph_path = \"./datasets/preprocessed/graph_{}.gexf\".format(name)\n",
    "\n",
    "# loading the dataset as a Pandas dataframe\n",
    "df = pd.read_pickle(path)"
   ]
  },
  {
   "cell_type": "code",
   "execution_count": null,
   "metadata": {},
   "outputs": [],
   "source": [
    "df.head()"
   ]
  },
  {
   "cell_type": "code",
   "execution_count": null,
   "metadata": {},
   "outputs": [],
   "source": [
    "# sort data chronologically\n",
    "df.sort_values(dataset.timestamp_col, inplace=True)\n",
    "\n",
    "# To add an \"index\" column to the sorted dataframe\n",
    "df.reset_index(inplace=True, drop = True)\n",
    "df.reset_index(inplace=True)"
   ]
  },
  {
   "cell_type": "code",
   "execution_count": null,
   "metadata": {},
   "outputs": [],
   "source": [
    "\n",
    "def ecdf(data):\n",
    "    \"\"\"\n",
    "    Calculate the Empirical Cumulative Distribution Function (ECDF) for a dataset.\n",
    "    \n",
    "    The ECDF represents the proportion of data points less than or equal to a \n",
    "    certain value, thereby providing a way to visualize and understand the distribution \n",
    "    of data values.\n",
    "\n",
    "    Parameters:\n",
    "    - data: array-like, a list or array of numerical data points.\n",
    "\n",
    "    Returns:\n",
    "    - x: array, the sorted data points.\n",
    "    - y: array, the ECDF value for each data point.\n",
    "    \"\"\"\n",
    "\n",
    "    # Sort the data in ascending order\n",
    "    x = np.sort(data)\n",
    "\n",
    "    # Calculate the ECDF values for each data point\n",
    "    # np.arange(1, len(data) + 1) creates an array of integers from 1 to the length of the data\n",
    "    # Dividing by the length of the data normalizes these integers to range from 1/N to 1\n",
    "    y = np.arange(1, len(data) + 1) / len(data)\n",
    "\n",
    "    return x, y"
   ]
  },
  {
   "cell_type": "code",
   "execution_count": null,
   "metadata": {},
   "outputs": [],
   "source": [
    "\n",
    "plt.figure(figsize=(14, 10))\n",
    "plt.rcParams['font.size'] = 18\n",
    "data_column1 = df[df[dataset.label_col] == 0][\"index\"] # Benign records\n",
    "data_column2 = df[df[dataset.label_col] == 1][\"index\"] # Attack records\n",
    "# Compute ECDF\n",
    "x1, y1 = ecdf(data_column1)\n",
    "x2, y2 = ecdf(data_column2)\n",
    "\n",
    "# Plot the ECDF\n",
    "plt.plot(x1, y1, color=\"#3062d9\", linewidth=4, marker='o', markersize=4)\n",
    "plt.plot(x2, y2, color=\"#eb4034\", linewidth=4, marker='o', markersize=4)\n",
    "plt.xlabel('index')\n",
    "plt.ylabel('ECDF')\n",
    "# plt.title('Empirical Cumulative Distribution Function (ECDF)')\n",
    "\n",
    "# Show the plot\n",
    "plt.show()\n",
    "\n",
    "\n",
    "for feature in dataset.network_features:\n",
    "    print(feature)\n",
    "\n",
    "    plt.clf()\n",
    "    plt.figure(figsize=(14, 10))\n",
    "    plt.rcParams['font.size'] = 18\n",
    "    data_column1 = df[df[dataset.label_col] == 0][feature]\n",
    "    data_column2 = df[df[dataset.label_col] == 1][feature]\n",
    "    # Compute ECDF\n",
    "    x1, y1 = ecdf(data_column1)\n",
    "    x2, y2 = ecdf(data_column2)\n",
    "    \n",
    "    # Plot the ECDF\n",
    "    plt.plot(x1, y1, color=\"#3062d9\", linewidth=4, marker='o', markersize=4)\n",
    "    plt.plot(x2, y2, color=\"#eb4034\", linewidth=4, marker='o', markersize=4)\n",
    "    plt.xlabel(feature)\n",
    "    plt.ylabel('ECDF')\n",
    "    # plt.title('Empirical Cumulative Distribution Function (ECDF)')\n",
    "    \n",
    "    # Show the plot\n",
    "    plt.show()\n",
    "\n"
   ]
  }
 ],
 "metadata": {
  "kernelspec": {
   "display_name": "Python 3 (ipykernel)",
   "language": "python",
   "name": "python3"
  },
  "language_info": {
   "codemirror_mode": {
    "name": "ipython",
    "version": 3
   },
   "file_extension": ".py",
   "mimetype": "text/x-python",
   "name": "python",
   "nbconvert_exporter": "python",
   "pygments_lexer": "ipython3",
   "version": "3.11.5"
  }
 },
 "nbformat": 4,
 "nbformat_minor": 2
}
