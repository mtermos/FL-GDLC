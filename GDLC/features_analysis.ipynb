{
 "cells": [
  {
   "cell_type": "markdown",
   "metadata": {},
   "source": [
    "# Feature Analysis for GDLC\n",
    "\n",
    "This notebook focuses on analyzing various features extracted from network traffic data to identify potential intrusions. Our goal is to understand the significance of each feature in the context of intrusion detection and to select the most relevant features for building a predictive model."
   ]
  },
  {
   "cell_type": "markdown",
   "metadata": {},
   "source": [
    "## Data Loading"
   ]
  },
  {
   "cell_type": "code",
   "execution_count": 258,
   "metadata": {},
   "outputs": [
    {
     "name": "stdout",
     "output_type": "stream",
     "text": [
      "dataset: client_0_pca\n"
     ]
    }
   ],
   "source": [
    "import pandas as pd\n",
    "import numpy as np\n",
    "import time\n",
    "import matplotlib.pyplot as plt\n",
    "import json\n",
    "import seaborn as sns\n",
    "import os\n",
    "from src.data.dataset_info import datasets\n",
    "from sklearn.feature_selection import VarianceThreshold\n",
    "\n",
    "# defining the thresholds\n",
    "var_threshold = 0.00\n",
    "corr_threshold = 0.75\n",
    "\n",
    "# specifying the dataset\n",
    "dataset = datasets[0]\n",
    "name_pca=\"client_0_pca\"\n",
    "name = dataset.name\n",
    "print(\"dataset: {}\".format(name_pca))\n",
    "path = \"./datasets_pca_federated_new/{}.parquet\".format(name_pca)\n",
    "# graph_path = \"./datasets/preprocessed/graph_{}.gexf\".format(name)\n",
    "\n",
    "# loading the dataset as a Pandas dataframe\n",
    "df = pd.read_parquet(path)\n",
    "\n",
    "# We are only concerned with features used in training\n",
    "df.drop(dataset.drop_columns, axis=1, inplace=True)\n",
    "df.drop(dataset.label_col, axis=1, inplace=True)"
   ]
  },
  {
   "cell_type": "code",
   "execution_count": 259,
   "metadata": {},
   "outputs": [
    {
     "data": {
      "text/html": [
       "<div>\n",
       "<style scoped>\n",
       "    .dataframe tbody tr th:only-of-type {\n",
       "        vertical-align: middle;\n",
       "    }\n",
       "\n",
       "    .dataframe tbody tr th {\n",
       "        vertical-align: top;\n",
       "    }\n",
       "\n",
       "    .dataframe thead th {\n",
       "        text-align: right;\n",
       "    }\n",
       "</style>\n",
       "<table border=\"1\" class=\"dataframe\">\n",
       "  <thead>\n",
       "    <tr style=\"text-align: right;\">\n",
       "      <th></th>\n",
       "      <th>Protocol</th>\n",
       "      <th>Flow Duration</th>\n",
       "      <th>Tot Fwd Pkts</th>\n",
       "      <th>Tot Bwd Pkts</th>\n",
       "      <th>TotLen Fwd Pkts</th>\n",
       "      <th>TotLen Bwd Pkts</th>\n",
       "      <th>Fwd Pkt Len Max</th>\n",
       "      <th>Fwd Pkt Len Min</th>\n",
       "      <th>Fwd Pkt Len Mean</th>\n",
       "      <th>Fwd Pkt Len Std</th>\n",
       "      <th>...</th>\n",
       "      <th>src_eigenvector</th>\n",
       "      <th>dst_eigenvector</th>\n",
       "      <th>src_closeness</th>\n",
       "      <th>dst_closeness</th>\n",
       "      <th>src_k_core</th>\n",
       "      <th>dst_k_core</th>\n",
       "      <th>src_k_truss</th>\n",
       "      <th>dst_k_truss</th>\n",
       "      <th>pca_1</th>\n",
       "      <th>pca_2</th>\n",
       "    </tr>\n",
       "  </thead>\n",
       "  <tbody>\n",
       "  </tbody>\n",
       "</table>\n",
       "<p>0 rows × 99 columns</p>\n",
       "</div>"
      ],
      "text/plain": [
       "Empty DataFrame\n",
       "Columns: [Protocol, Flow Duration, Tot Fwd Pkts, Tot Bwd Pkts, TotLen Fwd Pkts, TotLen Bwd Pkts, Fwd Pkt Len Max, Fwd Pkt Len Min, Fwd Pkt Len Mean, Fwd Pkt Len Std, Bwd Pkt Len Max, Bwd Pkt Len Min, Bwd Pkt Len Mean, Bwd Pkt Len Std, Flow Byts/s, Flow Pkts/s, Flow IAT Mean, Flow IAT Std, Flow IAT Max, Flow IAT Min, Fwd IAT Tot, Fwd IAT Mean, Fwd IAT Max, Fwd IAT Min, Bwd IAT Tot, Bwd IAT Mean, Bwd IAT Std, Bwd IAT Max, Bwd IAT Min, Fwd PSH Flags, Bwd PSH Flags, Fwd URG Flags, Bwd URG Flags, Fwd Header Len, Bwd Header Len, Fwd Pkts/s, Bwd Pkts/s, Pkt Len Min, Pkt Len Max, Pkt Len Mean, Pkt Len Std, Pkt Len Var, FIN Flag Cnt, SYN Flag Cnt, RST Flag Cnt, PSH Flag Cnt, ACK Flag Cnt, URG Flag Cnt, CWE Flag Count, ECE Flag Cnt, Down/Up Ratio, Pkt Size Avg, Fwd Seg Size Avg, Bwd Seg Size Avg, Fwd Byts/b Avg, Fwd Pkts/b Avg, Fwd Blk Rate Avg, Bwd Byts/b Avg, Bwd Pkts/b Avg, Bwd Blk Rate Avg, Subflow Fwd Pkts, Subflow Fwd Byts, Subflow Bwd Pkts, Subflow Bwd Byts, Init Fwd Win Byts, Init Bwd Win Byts, Fwd Act Data Pkts, Fwd Seg Size Min, Active Mean, Active Std, Active Max, Active Min, Idle Mean, Idle Std, Idle Max, Idle Min, Class, src_degree, dst_degree, src_betweenness, dst_betweenness, src_pagerank, dst_pagerank, src_multidigraph_degree, dst_multidigraph_degree, src_multidigraph_betweenness, dst_multidigraph_betweenness, src_multidigraph_pagerank, dst_multidigraph_pagerank, src_eigenvector, dst_eigenvector, src_closeness, dst_closeness, src_k_core, dst_k_core, src_k_truss, dst_k_truss, pca_1, pca_2]\n",
       "Index: []\n",
       "\n",
       "[0 rows x 99 columns]"
      ]
     },
     "execution_count": 259,
     "metadata": {},
     "output_type": "execute_result"
    }
   ],
   "source": [
    "df.head(0)"
   ]
  },
  {
   "cell_type": "markdown",
   "metadata": {},
   "source": [
    "## Variance Thresholding"
   ]
  },
  {
   "cell_type": "code",
   "execution_count": 260,
   "metadata": {
    "scrolled": false
   },
   "outputs": [
    {
     "name": "stdout",
     "output_type": "stream",
     "text": [
      "==>> dropped_features by VarianceThreshold: ['Bwd PSH Flags', 'Bwd URG Flags', 'Fwd Byts/b Avg', 'Fwd Pkts/b Avg', 'Fwd Blk Rate Avg']\n"
     ]
    }
   ],
   "source": [
    "# Create a VarianceThreshold object\n",
    "selector = VarianceThreshold(threshold=var_threshold)\n",
    "\n",
    "# Fit the selector to the data and transform the data\n",
    "data_filtered = selector.fit_transform(df)\n",
    "\n",
    "# Get the names of the selected features\n",
    "selected_features = df.columns[selector.get_support(indices=True)]\n",
    "\n",
    "dropped_features = [col for col in df.columns if col not in selected_features]\n",
    "\n",
    "# Create a new DataFrame with the selected features\n",
    "data_filtered = pd.DataFrame(df, columns=selected_features)\n",
    "\n",
    "# variances = np.var(df, axis=0)\n",
    "\n",
    "print(f\"==>> dropped_features by VarianceThreshold: {dropped_features}\")"
   ]
  },
  {
   "cell_type": "markdown",
   "metadata": {},
   "source": [
    "## Correlation Thresholding"
   ]
  },
  {
   "cell_type": "code",
   "execution_count": 261,
   "metadata": {
    "scrolled": false
   },
   "outputs": [],
   "source": [
    "# create the correlation matrix\n",
    "corr_matrix = data_filtered.corr()\n",
    "\n",
    "# plotting the heatmap of the matrix\n",
    "#plt.figure(figsize=(25, 20))\n",
    "#sns.heatmap(corr_matrix, annot=True, cmap='coolwarm',\n",
    " #           fmt='.2f', linewidths=.5)  # type: ignore\n",
    "#plt.title(\"Correlation Matrix Heatmap in dataset {}\".format(dataset.name))\n",
    "# plt.savefig(fname=\"visualization/{}/correlation_matrix\".format(dataset.name))"
   ]
  },
  {
   "cell_type": "code",
   "execution_count": 262,
   "metadata": {},
   "outputs": [
    {
     "name": "stdout",
     "output_type": "stream",
     "text": [
      "==>> dropped_features by correlation: {'Pkt Size Avg', 'Flow IAT Mean', 'Fwd IAT Tot', 'src_k_truss', 'Fwd Pkt Len Max', 'src_degree', 'Fwd URG Flags', 'Pkt Len Var', 'Bwd IAT Tot', 'Active Mean', 'Bwd Pkt Len Max', 'Fwd Header Len', 'Pkt Len Std', 'src_closeness', 'Fwd Pkt Len Std', 'dst_betweenness', 'Flow IAT Max', 'Active Std', 'PSH Flag Cnt', 'Fwd Pkt Len Mean', 'Bwd Pkt Len Mean', 'ACK Flag Cnt', 'TotLen Bwd Pkts', 'Idle Mean', 'Flow IAT Min', 'Subflow Bwd Byts', 'Tot Fwd Pkts', 'dst_multidigraph_betweenness', 'src_eigenvector', 'Pkt Len Max', 'Fwd IAT Mean', 'Bwd Byts/b Avg', 'src_pagerank', 'Tot Bwd Pkts', 'Flow Pkts/s', 'dst_degree', 'dst_eigenvector', 'Flow Duration', 'Bwd IAT Mean', 'Subflow Bwd Pkts', 'src_betweenness', 'Subflow Fwd Pkts', 'Bwd Pkt Len Std', 'src_multidigraph_betweenness', 'Bwd Header Len', 'Subflow Fwd Byts', 'Idle Max', 'Pkt Len Mean'}\n"
     ]
    }
   ],
   "source": [
    "# getting the top correlated features\n",
    "upper = corr_matrix.where(\n",
    "    np.triu(np.ones(corr_matrix.shape), k=1).astype(bool))\n",
    "correlated_features = [\n",
    "    column for column in upper.columns if any(upper[column] > corr_threshold)]\n",
    "\n",
    "# Drop only one feature from each highly correlated pair\n",
    "features_to_remove = set()\n",
    "for feature in correlated_features:\n",
    "    correlated_with_feature = list(\n",
    "        upper.index[upper[feature] > corr_threshold])\n",
    "    for correlated_feature in correlated_with_feature:\n",
    "        if correlated_feature not in features_to_remove:\n",
    "            features_to_remove.add(correlated_feature)\n",
    "            # features_to_remove.add(np.random.choice([feature, correlated_feature]))\n",
    "\n",
    "\n",
    "# Drop the highly correlated features\n",
    "data_filtered = data_filtered.drop(features_to_remove, axis=1)  # type: ignore\n",
    "\n",
    "print(f\"==>> dropped_features by correlation: {features_to_remove}\")"
   ]
  },
  {
   "cell_type": "code",
   "execution_count": 263,
   "metadata": {},
   "outputs": [
    {
     "name": "stdout",
     "output_type": "stream",
     "text": [
      "==>> final_features_names: ['Protocol', 'TotLen Fwd Pkts', 'Fwd Pkt Len Min', 'Bwd Pkt Len Min', 'Flow Byts/s', 'Flow IAT Std', 'Fwd IAT Max', 'Fwd IAT Min', 'Bwd IAT Std', 'Bwd IAT Max', 'Bwd IAT Min', 'Fwd PSH Flags', 'Fwd Pkts/s', 'Bwd Pkts/s', 'Pkt Len Min', 'FIN Flag Cnt', 'SYN Flag Cnt', 'RST Flag Cnt', 'URG Flag Cnt', 'CWE Flag Count', 'ECE Flag Cnt', 'Down/Up Ratio', 'Fwd Seg Size Avg', 'Bwd Seg Size Avg', 'Bwd Pkts/b Avg', 'Bwd Blk Rate Avg', 'Init Fwd Win Byts', 'Init Bwd Win Byts', 'Fwd Act Data Pkts', 'Fwd Seg Size Min', 'Active Max', 'Active Min', 'Idle Std', 'Idle Min', 'Class', 'dst_pagerank', 'src_multidigraph_degree', 'dst_multidigraph_degree', 'src_multidigraph_pagerank', 'dst_multidigraph_pagerank', 'dst_closeness', 'src_k_core', 'dst_k_core', 'dst_k_truss', 'pca_1', 'pca_2']\n"
     ]
    }
   ],
   "source": [
    "print(f\"==>> final_features_names: {list(data_filtered.columns)}\")"
   ]
  },
  {
   "cell_type": "code",
   "execution_count": 264,
   "metadata": {},
   "outputs": [],
   "source": [
    "dropped_features.extend(list(features_to_remove))"
   ]
  },
  {
   "cell_type": "code",
   "execution_count": 265,
   "metadata": {},
   "outputs": [
    {
     "name": "stdout",
     "output_type": "stream",
     "text": [
      "==>> length of dropped_features: 53\n"
     ]
    }
   ],
   "source": [
    "print(f\"==>> length of dropped_features: {len(dropped_features)}\")"
   ]
  },
  {
   "cell_type": "code",
   "execution_count": 266,
   "metadata": {},
   "outputs": [
    {
     "name": "stdout",
     "output_type": "stream",
     "text": [
      "==>> dropped_features: ['Bwd PSH Flags', 'Bwd URG Flags', 'Fwd Byts/b Avg', 'Fwd Pkts/b Avg', 'Fwd Blk Rate Avg', 'Pkt Size Avg', 'Flow IAT Mean', 'Fwd IAT Tot', 'src_k_truss', 'Fwd Pkt Len Max', 'src_degree', 'Fwd URG Flags', 'Pkt Len Var', 'Bwd IAT Tot', 'Active Mean', 'Bwd Pkt Len Max', 'Fwd Header Len', 'Pkt Len Std', 'src_closeness', 'Fwd Pkt Len Std', 'dst_betweenness', 'Flow IAT Max', 'Active Std', 'PSH Flag Cnt', 'Fwd Pkt Len Mean', 'Bwd Pkt Len Mean', 'ACK Flag Cnt', 'TotLen Bwd Pkts', 'Idle Mean', 'Flow IAT Min', 'Subflow Bwd Byts', 'Tot Fwd Pkts', 'dst_multidigraph_betweenness', 'src_eigenvector', 'Pkt Len Max', 'Fwd IAT Mean', 'Bwd Byts/b Avg', 'src_pagerank', 'Tot Bwd Pkts', 'Flow Pkts/s', 'dst_degree', 'dst_eigenvector', 'Flow Duration', 'Bwd IAT Mean', 'Subflow Bwd Pkts', 'src_betweenness', 'Subflow Fwd Pkts', 'Bwd Pkt Len Std', 'src_multidigraph_betweenness', 'Bwd Header Len', 'Subflow Fwd Byts', 'Idle Max', 'Pkt Len Mean']\n"
     ]
    }
   ],
   "source": [
    "print(f\"==>> dropped_features: {dropped_features}\")"
   ]
  },
  {
   "cell_type": "code",
   "execution_count": 267,
   "metadata": {},
   "outputs": [],
   "source": [
    "cn_measures_type_2 = [\n",
    "    \"dst_global_betweenness\",\n",
    "    \"src_global_degree\",\n",
    "    \"dst_global_degree\",\n",
    "    \"src_mv\",\n",
    "    \"src_global_pagerank\",\n",
    "    \"dst_global_pagerank\",\n",
    "    \"src_global_betweenness\",\n",
    "    \"dst_mv\"\n",
    "]\n",
    "\n",
    "cn_measures_type_1 = [\n",
    "    \"dst_local_pagerank\",\n",
    "    \"src_local_betweenness\",\n",
    "    \"src_Comm\",\n",
    "    \"src_local_degree\",\n",
    "    \"dst_local_betweenness\",\n",
    "    \"dst_Comm\",\n",
    "    \"dst_local_degree\",\n",
    "    \"src_local_pagerank\"\n",
    "]"
   ]
  },
  {
   "cell_type": "code",
   "execution_count": 269,
   "metadata": {},
   "outputs": [
    {
     "name": "stdout",
     "output_type": "stream",
     "text": [
      "==>> final_features_names: ['Protocol', 'Flow Duration', 'Tot Fwd Pkts', 'Tot Bwd Pkts', 'TotLen Fwd Pkts', 'TotLen Bwd Pkts', 'Fwd Pkt Len Max', 'Fwd Pkt Len Min', 'Fwd Pkt Len Mean', 'Fwd Pkt Len Std', 'Bwd Pkt Len Max', 'Bwd Pkt Len Min', 'Bwd Pkt Len Mean', 'Bwd Pkt Len Std', 'Flow Byts/s', 'Flow Pkts/s', 'Flow IAT Mean', 'Flow IAT Std', 'Flow IAT Max', 'Flow IAT Min', 'Fwd IAT Tot', 'Fwd IAT Mean', 'Fwd IAT Max', 'Fwd IAT Min', 'Bwd IAT Tot', 'Bwd IAT Mean', 'Bwd IAT Std', 'Bwd IAT Max', 'Bwd IAT Min', 'Fwd PSH Flags', 'Bwd PSH Flags', 'Fwd URG Flags', 'Bwd URG Flags', 'Fwd Header Len', 'Bwd Header Len', 'Fwd Pkts/s', 'Bwd Pkts/s', 'Pkt Len Min', 'Pkt Len Max', 'Pkt Len Mean', 'Pkt Len Std', 'Pkt Len Var', 'FIN Flag Cnt', 'SYN Flag Cnt', 'RST Flag Cnt', 'PSH Flag Cnt', 'ACK Flag Cnt', 'URG Flag Cnt', 'CWE Flag Count', 'ECE Flag Cnt', 'Down/Up Ratio', 'Pkt Size Avg', 'Fwd Seg Size Avg', 'Bwd Seg Size Avg', 'Fwd Byts/b Avg', 'Fwd Pkts/b Avg', 'Fwd Blk Rate Avg', 'Bwd Byts/b Avg', 'Bwd Pkts/b Avg', 'Bwd Blk Rate Avg', 'Subflow Fwd Pkts', 'Subflow Fwd Byts', 'Subflow Bwd Pkts', 'Subflow Bwd Byts', 'Init Fwd Win Byts', 'Init Bwd Win Byts', 'Fwd Act Data Pkts', 'Fwd Seg Size Min', 'Active Mean', 'Active Std', 'Active Max', 'Active Min', 'Idle Mean', 'Idle Std', 'Idle Max', 'Idle Min', 'Class', 'src_degree', 'dst_degree', 'src_betweenness', 'dst_betweenness', 'src_pagerank', 'dst_pagerank', 'src_eigenvector', 'dst_eigenvector', 'src_closeness', 'dst_closeness', 'src_k_core', 'dst_k_core', 'src_k_truss', 'dst_k_truss', 'pca_1', 'pca_2']\n",
      "==>> len_final_features_names: 93\n"
     ]
    }
   ],
   "source": [
    "data_filtered = df.drop(columns=cn_measures_type_2, errors='ignore')\n",
    "\n",
    "data_filtered = df.drop(columns=cn_measures_type_1, errors='ignore')\n",
    "#data_filtered = df.drop([\"src_multidigraph_degree\", \"dst_multidigraph_degree\", \"src_multidigraph_betweenness\", \"dst_multidigraph_betweenness\", \"src_multidigraph_pagerank\", \"dst_multidigraph_pagerank\"], axis=1, inplace=True)\n",
    "\n",
    "print(f\"==>> final_features_names: {list(data_filtered.columns)}\")\n",
    "print(f\"==>> len_final_features_names: {len(data_filtered.columns)}\")\n",
    "output_folder = 'datasets_modified'\n",
    "os.makedirs(output_folder, exist_ok=True)\n",
    "output_path = os.path.join(output_folder, f'client_{name_pca}.parquet')\n",
    "data_filtered.to_parquet(output_path)"
   ]
  },
  {
   "cell_type": "code",
   "execution_count": null,
   "metadata": {},
   "outputs": [],
   "source": []
  }
 ],
 "metadata": {
  "kernelspec": {
   "display_name": "Python 3 (ipykernel)",
   "language": "python",
   "name": "python3"
  },
  "language_info": {
   "codemirror_mode": {
    "name": "ipython",
    "version": 3
   },
   "file_extension": ".py",
   "mimetype": "text/x-python",
   "name": "python",
   "nbconvert_exporter": "python",
   "pygments_lexer": "ipython3",
   "version": "3.11.5"
  }
 },
 "nbformat": 4,
 "nbformat_minor": 2
}
