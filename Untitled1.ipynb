{
 "cells": [
  {
   "cell_type": "code",
   "execution_count": 1,
   "id": "84cb9753-9962-4cfa-b78f-ed13216e3cc7",
   "metadata": {},
   "outputs": [],
   "source": [
    "import os\n",
    "import pandas as pd\n",
    "import networkx as nx\n",
    "import numpy as np\n",
    "import pickle\n",
    "from src.network.network_features import cal_betweenness_centrality\n",
    "from sklearn.model_selection import train_test_split\n",
    "import igraph as ig\n",
    "import json\n",
    "# datasets is a list of available datasets descriptions containing: path, key columns names, and suitable complex network features\n",
    "from src.data.dataset_info import datasets, cn_measures_type_1, cn_measures_type_2, cn_measures_type_3, cn_measures_type_4, network_features_type_1,network_features_type_2,network_features_type_3,network_features_type_4\n",
    "from src.network.network_features import separate_graph, cal_betweenness_centrality, cal_k_core, cal_k_truss\n",
    "from src.network.CommCentralityCode import comm_centreality\n",
    "from src.network.modularity_vitality import modularity_vitality\n",
    "\n",
    "from sklearn.preprocessing import StandardScaler\n",
    "from sklearn.decomposition import PCA\n",
    "import matplotlib.pyplot as plt\n",
    "import shutil\n",
    "\n",
    "with_sort_timestamp = True\n",
    "undersample_classes = True\n",
    "folder_path = \"fl_from_2_datasets/\"\n",
    "folder_path_prep = \"fl_from_2_datasets/preprocessed/\"\n",
    "\n",
    "\n",
    "if not os.path.isdir(folder_path):\n",
    "    os.mkdir(folder_path)\n",
    "    os.mkdir(folder_path_prep)"
   ]
  },
  {
   "cell_type": "code",
   "execution_count": 2,
   "id": "6e8e652c-7d74-47a3-9faa-7da0f290d90f",
   "metadata": {},
   "outputs": [
    {
     "name": "stdout",
     "output_type": "stream",
     "text": [
      "==>> dataset1.name: cic_ton_iot\n"
     ]
    }
   ],
   "source": [
    "dataset1 = datasets[0]\n",
    "print(f\"==>> dataset1.name: {dataset1.name}\")\n",
    "df1 = pd.read_parquet(\"./datasets/cic_ton_iot.parquet\")\n",
    "# converting all infinity values into nan then dropping all records containing nan values\n",
    "df1.replace([np.inf, -np.inf], np.nan, inplace=True)\n",
    "df1.dropna(axis=0, how='any', inplace=True)\n",
    "\n",
    "df1.drop_duplicates(subset=list(set(df1.columns) - set([dataset1.timestamp_col, dataset1.flow_id_col])), keep=\"first\", inplace=True)\n",
    "\n",
    "if dataset1.weak_columns:\n",
    "    df1 = df1[~df1[dataset1.class_col].isin(dataset1.weak_columns)]"
   ]
  },
  {
   "cell_type": "code",
   "execution_count": 3,
   "id": "e98616b2-7166-4702-a1ae-c00ab83f4f62",
   "metadata": {},
   "outputs": [
    {
     "name": "stdout",
     "output_type": "stream",
     "text": [
      "['Benign' 'mitm' 'scanning' 'dos' 'ddos' 'injection' 'password' 'backdoor'\n",
      " 'ransomware' 'xss']\n"
     ]
    }
   ],
   "source": [
    "classes1 = df1[dataset1.class_col].unique()\n",
    "print(classes1)"
   ]
  },
  {
   "cell_type": "code",
   "execution_count": 4,
   "id": "854b4573-67e2-4691-be7a-3926173792c3",
   "metadata": {},
   "outputs": [
    {
     "name": "stdout",
     "output_type": "stream",
     "text": [
      "==>> dataset2.name: cic_ids_2017\n"
     ]
    }
   ],
   "source": [
    "dataset2 = datasets[1]\n",
    "print(f\"==>> dataset2.name: {dataset2.name}\")\n",
    "df2 = pd.read_parquet(\"./datasets/cic_ids_2017.parquet\")\n",
    "# converting all infinity values into nan then dropping all records containing nan values\n",
    "df2.replace([np.inf, -np.inf], np.nan, inplace=True)\n",
    "df2.dropna(axis=0, how='any', inplace=True)\n",
    "\n",
    "df2.drop_duplicates(subset=list(set(df2.columns) - set([dataset2.timestamp_col, dataset2.flow_id_col])), keep=\"first\", inplace=True)\n",
    "\n",
    "if dataset2.weak_columns:\n",
    "    df2 = df2[~df2[dataset2.class_col].isin(dataset2.weak_columns)]"
   ]
  },
  {
   "cell_type": "code",
   "execution_count": 5,
   "id": "bd28659f-d720-4b8b-ac2f-aa4eb5dd279c",
   "metadata": {},
   "outputs": [
    {
     "name": "stdout",
     "output_type": "stream",
     "text": [
      "==>> classes2: ['BENIGN' 'DDoS' 'PortScan' 'Bot' 'Infiltration'\n",
      " 'Web Attack � Brute Force' 'Web Attack � XSS'\n",
      " 'Web Attack � Sql Injection' 'FTP-Patator' 'SSH-Patator' 'DoS slowloris'\n",
      " 'DoS Slowhttptest' 'DoS Hulk' 'DoS GoldenEye' 'Heartbleed']\n"
     ]
    }
   ],
   "source": [
    "classes2 = df2[dataset2.class_col].unique()\n",
    "print(f\"==>> classes2: {classes2}\")"
   ]
  },
  {
   "cell_type": "code",
   "execution_count": 6,
   "id": "73c52211-e107-49d3-a5a3-a2d942abad88",
   "metadata": {},
   "outputs": [],
   "source": [
    "df2[dataset2.class_col] = df2[dataset2.class_col].replace({\"BENIGN\": \"Benign\",\n",
    "                                                            \"DDoS\": \"ddos\",\n",
    "                                                            \"Web Attack � Brute Force\": \"bruteforce\",\n",
    "                                                            \"Web Attack � XSS\": \"xss\"})"
   ]
  },
  {
   "cell_type": "code",
   "execution_count": 7,
   "id": "93132189-7c75-48e0-a13a-d2a75f463ac7",
   "metadata": {},
   "outputs": [
    {
     "name": "stdout",
     "output_type": "stream",
     "text": [
      "==>> classes2: ['Benign' 'ddos' 'PortScan' 'Bot' 'Infiltration' 'bruteforce' 'xss'\n",
      " 'Web Attack � Sql Injection' 'FTP-Patator' 'SSH-Patator' 'DoS slowloris'\n",
      " 'DoS Slowhttptest' 'DoS Hulk' 'DoS GoldenEye' 'Heartbleed']\n"
     ]
    }
   ],
   "source": [
    "classes2 = df2[dataset2.class_col].unique()\n",
    "print(f\"==>> classes2: {classes2}\")"
   ]
  },
  {
   "cell_type": "code",
   "execution_count": 8,
   "id": "e9bd293c-061e-4e4d-968f-28d459bea765",
   "metadata": {},
   "outputs": [
    {
     "name": "stdout",
     "output_type": "stream",
     "text": [
      "==>> classes: {'scanning', 'ddos', 'Heartbleed', 'PortScan', 'password', 'backdoor', 'Bot', 'ransomware', 'SSH-Patator', 'mitm', 'Infiltration', 'xss', 'dos', 'Benign', 'DoS slowloris', 'DoS Slowhttptest', 'injection', 'Web Attack � Sql Injection', 'bruteforce', 'FTP-Patator', 'DoS Hulk', 'DoS GoldenEye'}\n"
     ]
    }
   ],
   "source": [
    "classes = set(np.concatenate([classes2,classes1]))\n",
    "print(f\"==>> classes: {classes}\")"
   ]
  },
  {
   "cell_type": "code",
   "execution_count": 9,
   "id": "b820edb5-7f77-4a02-8305-9491e3c8a980",
   "metadata": {},
   "outputs": [
    {
     "name": "stdout",
     "output_type": "stream",
     "text": [
      "==>> labels_names: {0: 'Benign', 1: 'Bot', 2: 'DoS GoldenEye', 3: 'DoS Hulk', 4: 'DoS Slowhttptest', 5: 'DoS slowloris', 6: 'FTP-Patator', 7: 'Heartbleed', 8: 'Infiltration', 9: 'PortScan', 10: 'SSH-Patator', 11: 'Web Attack � Sql Injection', 12: 'backdoor', 13: 'bruteforce', 14: 'ddos', 15: 'dos', 16: 'injection', 17: 'mitm', 18: 'password', 19: 'ransomware', 20: 'scanning', 21: 'xss'}\n"
     ]
    }
   ],
   "source": [
    "from sklearn.preprocessing import LabelEncoder\n",
    "\n",
    "# df1.replace([np.inf, -np.inf], np.nan, inplace=True)\n",
    "# df2.dropna(axis=0, how='any', inplace=True)\n",
    "\n",
    "# df1.replace([np.inf, -np.inf], np.nan, inplace=True)\n",
    "# df2.dropna(axis=0, how='any', inplace=True)\n",
    "\n",
    "if with_sort_timestamp:\n",
    "    df1[dataset1.timestamp_col] = pd.to_datetime(df1[dataset1.timestamp_col].str.strip(), format=dataset1.timestamp_format)\n",
    "    df1.sort_values(dataset1.timestamp_col, inplace= True)\n",
    "\n",
    "if with_sort_timestamp:\n",
    "    df2[dataset2.timestamp_col] = pd.to_datetime(df2[dataset2.timestamp_col].str.strip(), format=dataset2.timestamp_format)\n",
    "    df2.sort_values(dataset2.timestamp_col, inplace= True)\n",
    "\n",
    "label_encoder = LabelEncoder()\n",
    "label_encoder.fit(list(classes))\n",
    "\n",
    "df1[dataset1.class_num_col] = label_encoder.transform(df1[dataset1.class_col])\n",
    "df2[dataset2.class_num_col] = label_encoder.transform(df2[dataset2.class_col])\n",
    "labels_names = dict(zip(label_encoder.transform(label_encoder.classes_), label_encoder.classes_))\n",
    "\n",
    "print(f\"==>> labels_names: {labels_names}\")"
   ]
  },
  {
   "cell_type": "code",
   "execution_count": 10,
   "id": "d5cbab61-3bd1-43c1-892c-4db0c150f3d5",
   "metadata": {},
   "outputs": [
    {
     "name": "stdout",
     "output_type": "stream",
     "text": [
      "==>> class_counts_sorted: Attack\n",
      "Benign        2514059\n",
      "xss           2149308\n",
      "password       340208\n",
      "injection      277696\n",
      "scanning        36205\n",
      "backdoor        27145\n",
      "ransomware       5098\n",
      "mitm              517\n",
      "ddos              202\n",
      "dos               145\n",
      "dtype: int64\n"
     ]
    }
   ],
   "source": [
    "if undersample_classes:\n",
    "    # Group by the class column and get the count of records in each class\n",
    "    class_counts = df1.groupby(dataset1.class_col).size()\n",
    "\n",
    "    # Sort the counts in descending order\n",
    "    class_counts_sorted = class_counts.sort_values(ascending=False)\n",
    "    print(f\"==>> class_counts_sorted: {class_counts_sorted}\")"
   ]
  },
  {
   "cell_type": "code",
   "execution_count": 11,
   "id": "71fd9f7c-aa56-477a-9f24-4b9c4bf63826",
   "metadata": {},
   "outputs": [
    {
     "name": "stdout",
     "output_type": "stream",
     "text": [
      "==>> class_label: Benign\n",
      "==>> class_label: xss\n",
      "==>> class_label: password\n",
      "==>> class_label: injection\n",
      "==>> class_label: scanning\n",
      "==>> class_label: backdoor\n",
      "==>> class_label: ransomware\n",
      "==>> class_label: mitm\n",
      "==>> class_label: ddos\n",
      "==>> class_label: dos\n"
     ]
    }
   ],
   "source": [
    "if undersample_classes:\n",
    "    # Get the classes with the highest number of records (you can choose how many to undersample)\n",
    "    classes_to_undersample = class_counts_sorted.index[:2]\n",
    "\n",
    "    # Undersample the classes with the highest number of records\n",
    "    dfs = []\n",
    "    for class_label in class_counts_sorted.index:\n",
    "        print(f\"==>> class_label: {class_label}\")\n",
    "        if class_label in classes_to_undersample:\n",
    "            class_df = df1[df1[dataset1.class_col] == class_label]\n",
    "            undersampled_df = class_df.sample(frac=0.5)  # Specify the fraction of samples to keep\n",
    "            dfs.append(undersampled_df)\n",
    "        else:\n",
    "            dfs.append(df1[df1[dataset1.class_col] == class_label])\n",
    "\n",
    "    df1 = []\n",
    "    # Optional: shuffle the undersampled DataFrame\n",
    "    df1 = pd.concat(dfs).sample(frac=1).reset_index(drop=True)\n"
   ]
  },
  {
   "cell_type": "code",
   "execution_count": 12,
   "id": "eceb2754-3b56-467b-8470-9ab1c832f89c",
   "metadata": {},
   "outputs": [
    {
     "name": "stdout",
     "output_type": "stream",
     "text": [
      "==>> class_counts_sorted: Attack\n",
      "Benign        1257030\n",
      "xss           1074654\n",
      "password       340208\n",
      "injection      277696\n",
      "scanning        36205\n",
      "backdoor        27145\n",
      "ransomware       5098\n",
      "mitm              517\n",
      "ddos              202\n",
      "dos               145\n",
      "dtype: int64\n"
     ]
    }
   ],
   "source": [
    "if undersample_classes:\n",
    "    # Group by the class column and get the count of records in each class\n",
    "    class_counts = df1.groupby(dataset1.class_col).size()\n",
    "\n",
    "    # Sort the counts in descending order\n",
    "    class_counts_sorted = class_counts.sort_values(ascending=False)\n",
    "    print(f\"==>> class_counts_sorted: {class_counts_sorted}\")"
   ]
  },
  {
   "cell_type": "code",
   "execution_count": 13,
   "id": "322651d3-96ef-4ba0-aa6a-dfadd19030d9",
   "metadata": {},
   "outputs": [
    {
     "name": "stdout",
     "output_type": "stream",
     "text": [
      "==>> class_counts_sorted: Attack\n",
      "Benign                        2265910\n",
      "DoS Hulk                       222563\n",
      "PortScan                       158804\n",
      "ddos                           128025\n",
      "DoS GoldenEye                   10293\n",
      "FTP-Patator                      7935\n",
      "SSH-Patator                      5897\n",
      "DoS slowloris                    5769\n",
      "DoS Slowhttptest                 5499\n",
      "Bot                              1956\n",
      "bruteforce                       1507\n",
      "xss                               652\n",
      "Infiltration                       36\n",
      "Web Attack � Sql Injection         21\n",
      "Heartbleed                         11\n",
      "dtype: int64\n"
     ]
    }
   ],
   "source": [
    "if undersample_classes:\n",
    "    # Group by the class column and get the count of records in each class\n",
    "    class_counts = df2.groupby(dataset2.class_col).size()\n",
    "\n",
    "    # Sort the counts in descending order\n",
    "    class_counts_sorted = class_counts.sort_values(ascending=False)\n",
    "    print(f\"==>> class_counts_sorted: {class_counts_sorted}\")"
   ]
  },
  {
   "cell_type": "code",
   "execution_count": 14,
   "id": "0459c6e2-6a02-40f9-a26c-273311f10e4b",
   "metadata": {},
   "outputs": [],
   "source": [
    "if undersample_classes:\n",
    "    # Get the classes with the highest number of records (you can choose how many to undersample)\n",
    "    classes_to_undersample = class_counts_sorted.index[:1]\n",
    "\n",
    "    # Undersample the classes with the highest number of records\n",
    "    dfs = []\n",
    "    for class_label in class_counts_sorted.index:\n",
    "        if class_label in classes_to_undersample:\n",
    "            class_df = df2[df2[dataset2.class_col] == class_label]\n",
    "            undersampled_df = class_df.sample(frac=0.5)  # Specify the fraction of samples to keep\n",
    "            dfs.append(undersampled_df)\n",
    "        else:\n",
    "            dfs.append(df2[df2[dataset2.class_col] == class_label])\n",
    "\n",
    "    df2 = []\n",
    "    # Optional: shuffle the undersampled DataFrame\n",
    "    df2 = pd.concat(dfs).sample(frac=1).reset_index(drop=True)\n"
   ]
  },
  {
   "cell_type": "code",
   "execution_count": 15,
   "id": "210b63b7-cc3d-4b7b-921e-62ce34426204",
   "metadata": {},
   "outputs": [
    {
     "name": "stdout",
     "output_type": "stream",
     "text": [
      "==>> class_counts_sorted: Attack\n",
      "Benign                        1132955\n",
      "DoS Hulk                       222563\n",
      "PortScan                       158804\n",
      "ddos                           128025\n",
      "DoS GoldenEye                   10293\n",
      "FTP-Patator                      7935\n",
      "SSH-Patator                      5897\n",
      "DoS slowloris                    5769\n",
      "DoS Slowhttptest                 5499\n",
      "Bot                              1956\n",
      "bruteforce                       1507\n",
      "xss                               652\n",
      "Infiltration                       36\n",
      "Web Attack � Sql Injection         21\n",
      "Heartbleed                         11\n",
      "dtype: int64\n"
     ]
    }
   ],
   "source": [
    "if undersample_classes:\n",
    "    # Group by the class column and get the count of records in each class\n",
    "    class_counts = df2.groupby(dataset2.class_col).size()\n",
    "\n",
    "    # Sort the counts in descending order\n",
    "    class_counts_sorted = class_counts.sort_values(ascending=False)\n",
    "    print(f\"==>> class_counts_sorted: {class_counts_sorted}\")"
   ]
  },
  {
   "cell_type": "code",
   "execution_count": 16,
   "id": "b0e2c1f3-facf-492a-a6b4-6ef70cb008eb",
   "metadata": {},
   "outputs": [],
   "source": [
    "with open(folder_path + '/labels_names.pkl', 'wb') as f:\n",
    "    pickle.dump([labels_names, classes], f)"
   ]
  },
  {
   "cell_type": "code",
   "execution_count": 17,
   "id": "30b4c519-7e2a-4441-8101-73615e352968",
   "metadata": {},
   "outputs": [
    {
     "name": "stdout",
     "output_type": "stream",
     "text": [
      "==>> number_of_nodes: 109494\n",
      "==>> number_of_edges: 209581\n"
     ]
    },
    {
     "data": {
      "text/plain": [
       "{'name': 'cic_ton_iot',\n",
       " 'length': 3018900,\n",
       " 'num_benign': 1257030,\n",
       " 'percentage_of_benign_records': 41.6386763390639,\n",
       " 'num_attack': 1761870,\n",
       " 'percentage_of_attack_records': 58.3613236609361,\n",
       " 'attacks': ['xss',\n",
       "  'injection',\n",
       "  'Benign',\n",
       "  'password',\n",
       "  'scanning',\n",
       "  'backdoor',\n",
       "  'ransomware',\n",
       "  'mitm',\n",
       "  'ddos',\n",
       "  'dos']}"
      ]
     },
     "execution_count": 17,
     "metadata": {},
     "output_type": "execute_result"
    }
   ],
   "source": [
    "total_count = len(df1)\n",
    "\n",
    "properties = {\n",
    "    \"name\": dataset1.name,\n",
    "    \"length\": total_count,\n",
    "}\n",
    "\n",
    "num_benign = len(df1[df1['Label'] == 0])\n",
    "num_attack = len(df1[df1['Label'] == 1])\n",
    "\n",
    "properties[\"num_benign\"] = num_benign\n",
    "properties[\"percentage_of_benign_records\"] = ((num_benign * 100)/total_count)\n",
    "\n",
    "properties[\"num_attack\"] = num_attack\n",
    "properties[\"percentage_of_attack_records\"] = ((num_attack * 100)/total_count)\n",
    "\n",
    "properties[\"attacks\"] = list(df1[\"Attack\"].unique()) \n",
    "\n",
    "\n",
    "G = nx.from_pandas_edgelist(\n",
    "    df1,\n",
    "    source=dataset1.src_ip_col,\n",
    "    target=dataset1.dst_ip_col,\n",
    "    create_using=nx.DiGraph()\n",
    ")\n",
    "\n",
    "print(f\"==>> number_of_nodes: {G.number_of_nodes()}\")\n",
    "print(f\"==>> number_of_edges: {G.number_of_edges()}\")\n",
    "\n",
    "properties\n"
   ]
  },
  {
   "cell_type": "code",
   "execution_count": 18,
   "id": "0b18d60a-c1bf-47af-8b06-72c19a2d63d4",
   "metadata": {},
   "outputs": [
    {
     "name": "stdout",
     "output_type": "stream",
     "text": [
      "==>> number_of_nodes: 18360\n",
      "==>> number_of_edges: 93248\n"
     ]
    },
    {
     "data": {
      "text/plain": [
       "{'name': 'cic_ton_iot',\n",
       " 'length': 1681923,\n",
       " 'num_benign': 1132955,\n",
       " 'percentage_of_benign_records': 67.36069368217213,\n",
       " 'num_attack': 548968,\n",
       " 'percentage_of_attack_records': 32.63930631782787,\n",
       " 'attacks': ['Benign',\n",
       "  'ddos',\n",
       "  'PortScan',\n",
       "  'DoS Hulk',\n",
       "  'FTP-Patator',\n",
       "  'Bot',\n",
       "  'DoS GoldenEye',\n",
       "  'SSH-Patator',\n",
       "  'DoS Slowhttptest',\n",
       "  'DoS slowloris',\n",
       "  'bruteforce',\n",
       "  'xss',\n",
       "  'Heartbleed',\n",
       "  'Infiltration',\n",
       "  'Web Attack � Sql Injection']}"
      ]
     },
     "execution_count": 18,
     "metadata": {},
     "output_type": "execute_result"
    }
   ],
   "source": [
    "total_count = len(df2)\n",
    "\n",
    "properties = {\n",
    "    \"name\": dataset1.name,\n",
    "    \"length\": total_count,\n",
    "}\n",
    "\n",
    "num_benign = len(df2[df2['Label'] == 0])\n",
    "num_attack = len(df2[df2['Label'] == 1])\n",
    "\n",
    "properties[\"num_benign\"] = num_benign\n",
    "\n",
    "properties[\"percentage_of_benign_records\"] = ((num_benign * 100)/total_count)\n",
    "\n",
    "properties[\"num_attack\"] = num_attack\n",
    "properties[\"percentage_of_attack_records\"] = ((num_attack * 100)/total_count)\n",
    "\n",
    "properties[\"attacks\"] = list(df2[\"Attack\"].unique())  # .to_list()\n",
    "\n",
    "\n",
    "G = nx.from_pandas_edgelist(\n",
    "    df2,\n",
    "    source=dataset1.src_ip_col,\n",
    "    target=dataset1.dst_ip_col,\n",
    "    create_using=nx.DiGraph()\n",
    ")\n",
    "\n",
    "print(f\"==>> number_of_nodes: {G.number_of_nodes()}\")\n",
    "print(f\"==>> number_of_edges: {G.number_of_edges()}\")\n",
    "\n",
    "properties\n"
   ]
  },
  {
   "cell_type": "code",
   "execution_count": 19,
   "id": "4ff965d8-b49c-4bee-80a4-fc522d9d7f58",
   "metadata": {},
   "outputs": [],
   "source": [
    "train1, test1 = train_test_split(df1, test_size=0.1, shuffle= True, random_state=1, stratify=df1[dataset1.class_col])\n",
    "train2, test2 = train_test_split(df2, test_size=0.1, shuffle= True, random_state=1, stratify=df2[dataset2.class_col])\n",
    "\n",
    "\n",
    "if with_sort_timestamp:\n",
    "    # train1[dataset1.timestamp_col] = pd.to_datetime(train1[dataset1.timestamp_col].str.strip(), format=dataset1.timestamp_format)\n",
    "    train1.sort_values(dataset1.timestamp_col, inplace= True)\n",
    "    train2.sort_values(dataset2.timestamp_col, inplace= True)\n"
   ]
  },
  {
   "cell_type": "code",
   "execution_count": 20,
   "id": "092beef1-914d-4a3a-8093-a57411c3a2a5",
   "metadata": {},
   "outputs": [],
   "source": [
    "def compute_graph_properties(G, name):\n",
    "    G.remove_nodes_from(list(nx.isolates(G)))\n",
    "    for node in G.nodes():\n",
    "        G.nodes[node]['label'] = node\n",
    "    G1 = ig.Graph.from_networkx(G)\n",
    "    \n",
    "    labels = [G.nodes[node]['label'] for node in G.nodes()]\n",
    "    G1.vs['label'] = labels\n",
    "    \n",
    "    part = G1.community_infomap()\n",
    "    \n",
    "    communities = []\n",
    "    for com in part:\n",
    "        communities.append([G1.vs[node_index]['label'] for node_index in com])\n",
    "    \n",
    "    properties = {}\n",
    "    properties[\"number_of_nodes\"] = G.number_of_nodes()\n",
    "    properties[\"number_of_edges\"] = G.number_of_edges()\n",
    "    \n",
    "    degrees = [degree for _, degree in G.degree()]\n",
    "    properties[\"max_degree\"] = max(degrees)\n",
    "    properties[\"avg_degree\"] = sum(degrees) / len(degrees)\n",
    "    properties[\"transitivity\"] = nx.transitivity(G)\n",
    "    properties[\"density\"] = nx.density(G)\n",
    "    \n",
    "    node_to_community = {}\n",
    "    for community_index, community in enumerate(communities):\n",
    "        for node in community:\n",
    "            node_to_community[node] = community_index\n",
    "    \n",
    "    inter_cluster_edges = 0\n",
    "    for u, v in G.edges():\n",
    "        if node_to_community[u] != node_to_community[v]:\n",
    "            inter_cluster_edges += 1\n",
    "    \n",
    "    properties[\"mixing_parameter\"] = inter_cluster_edges / G.number_of_edges()\n",
    "    \n",
    "    filename = os.path.join('fl_from_2_datasets', 'datasets_properties', f\"graph_{name}.json\")\n",
    "    os.makedirs(os.path.dirname(filename), exist_ok=True)\n",
    "    with open(filename, 'w') as outfile:\n",
    "        json.dump(properties, outfile)\n",
    "    \n",
    "    return properties\n",
    "\n",
    "def process_and_compute_graph_properties(train1, train2, test1, test2, folder_path):\n",
    "    \n",
    "    client_data = np.array_split(train1, 5) + np.array_split(train2, 3)\n",
    "    \n",
    "    for cid, data_partition in enumerate(client_data):\n",
    "        data_partition.to_parquet(folder_path + \"client_{}.parquet\".format(cid))\n",
    "        \n",
    "        G = nx.from_pandas_edgelist(data_partition, source='Src IP', target='Dst IP', create_using=nx.Graph())\n",
    "        properties = compute_graph_properties(G, f\"client_{cid}\")\n",
    "        print(f\"Computed properties for client_{cid}: {properties}\")\n",
    "    \n",
    "    test = pd.concat([test1, test2])\n",
    "    test.to_parquet(folder_path + \"test.parquet\")\n",
    "    \n",
    "    G_test = nx.from_pandas_edgelist(test, source='Src IP', target='Dst IP', create_using=nx.Graph())\n",
    "    test_properties = compute_graph_properties(G_test, \"test\")\n",
    "    print(f\"Computed properties for test dataset: {test_properties}\")"
   ]
  },
  {
   "cell_type": "code",
   "execution_count": 21,
   "id": "f63ffd39-399a-4ae2-bcd2-4be692bc8616",
   "metadata": {},
   "outputs": [
    {
     "name": "stderr",
     "output_type": "stream",
     "text": [
      "c:\\Users\\Administrateur\\Desktop\\centralities-with-fl-nids-main\\.venv\\Lib\\site-packages\\numpy\\core\\fromnumeric.py:59: FutureWarning: 'DataFrame.swapaxes' is deprecated and will be removed in a future version. Please use 'DataFrame.transpose' instead.\n",
      "  return bound(*args, **kwds)\n"
     ]
    },
    {
     "name": "stdout",
     "output_type": "stream",
     "text": [
      "Computed properties for client_0: {'number_of_nodes': 51359, 'number_of_edges': 85440, 'max_degree': 25828, 'avg_degree': 3.3271675850386493, 'transitivity': 7.875508820440376e-05, 'density': 6.478382306629248e-05, 'mixing_parameter': 0.40084269662921346}\n",
      "Computed properties for client_1: {'number_of_nodes': 188, 'number_of_edges': 248, 'max_degree': 106, 'avg_degree': 2.6382978723404253, 'transitivity': 0.021485746383934842, 'density': 0.014108544771873933, 'mixing_parameter': 0.1693548387096774}\n",
      "Computed properties for client_2: {'number_of_nodes': 126, 'number_of_edges': 152, 'max_degree': 64, 'avg_degree': 2.4126984126984126, 'transitivity': 0.023604346197077557, 'density': 0.019301587301587302, 'mixing_parameter': 0.17105263157894737}\n",
      "Computed properties for client_3: {'number_of_nodes': 157, 'number_of_edges': 183, 'max_degree': 81, 'avg_degree': 2.3312101910828025, 'transitivity': 0.015193370165745856, 'density': 0.014943655071043607, 'mixing_parameter': 0.14207650273224043}\n",
      "Computed properties for client_4: {'number_of_nodes': 90653, 'number_of_edges': 106476, 'max_degree': 38370, 'avg_degree': 2.349089384796973, 'transitivity': 6.098899856463064e-06, 'density': 2.5913265948870108e-05, 'mixing_parameter': 0.14839024756752695}\n",
      "Computed properties for client_5: {'number_of_nodes': 13104, 'number_of_edges': 34102, 'max_degree': 4157, 'avg_degree': 5.204822954822955, 'transitivity': 0.0007462021191660263, 'density': 0.00039722376210203425, 'mixing_parameter': 0.0014368658729693273}\n",
      "Computed properties for client_6: {'number_of_nodes': 9812, 'number_of_edges': 21864, 'max_degree': 2456, 'avg_degree': 4.456583774969425, 'transitivity': 0.0012785981030967617, 'density': 0.0004542435811812685, 'mixing_parameter': 0.5519575557994878}\n",
      "Computed properties for client_7: {'number_of_nodes': 9239, 'number_of_edges': 20308, 'max_degree': 2536, 'avg_degree': 4.3961467691308584, 'transitivity': 0.0002646114834976075, 'density': 0.0004758764634261592, 'mixing_parameter': 0.5457455190072877}\n",
      "Computed properties for test dataset: {'number_of_nodes': 33573, 'number_of_edges': 47857, 'max_degree': 5798, 'avg_degree': 2.8509218717421736, 'transitivity': 0.0005232302865931314, 'density': 8.491963159008023e-05, 'mixing_parameter': 0.07812859142863113}\n"
     ]
    }
   ],
   "source": [
    "process_and_compute_graph_properties(train1, train2, test1, test2, folder_path)"
   ]
  },
  {
   "cell_type": "code",
   "execution_count": 22,
   "id": "1c9ac957",
   "metadata": {},
   "outputs": [],
   "source": [
    "# cn_measures_types = [\n",
    "#     cn_measures_type_1,\n",
    "#     cn_measures_type_3,\n",
    "#     cn_measures_type_3,\n",
    "#     cn_measures_type_3,\n",
    "#     cn_measures_type_1,\n",
    "#     cn_measures_type_2,\n",
    "#     cn_measures_type_1,\n",
    "#     cn_measures_type_1,\n",
    "#     cn_measures_type_2,\n",
    "# ]\n",
    "\n",
    "# network_features_types = [\n",
    "#     network_features_type_1,\n",
    "#     network_features_type_3,\n",
    "#     network_features_type_3,\n",
    "#     network_features_type_3,\n",
    "#     network_features_type_1,\n",
    "#     network_features_type_2,\n",
    "#     network_features_type_1,\n",
    "#     network_features_type_1,\n",
    "#     network_features_type_2,\n",
    "# ]\n",
    "cn_measures_type_0 = [\"betweenness\", \"degree\", \"pagerank\"]\n",
    "network_features_type_0 = ['src_betweenness', 'dst_betweenness', 'src_degree', 'dst_degree', 'src_pagerank', 'dst_pagerank']\n",
    "\n",
    "\n",
    "cn_measures_types = [\n",
    "    cn_measures_type_0,\n",
    "    cn_measures_type_0,\n",
    "    cn_measures_type_0,\n",
    "    cn_measures_type_0,\n",
    "    cn_measures_type_0,\n",
    "    cn_measures_type_0,\n",
    "    cn_measures_type_0,\n",
    "    cn_measures_type_0,\n",
    "    cn_measures_type_0,\n",
    "]\n",
    "\n",
    "network_features_types = [\n",
    "    network_features_type_0,\n",
    "    network_features_type_0,\n",
    "    network_features_type_0,\n",
    "    network_features_type_0,\n",
    "    network_features_type_0,\n",
    "    network_features_type_0,\n",
    "    network_features_type_0,\n",
    "    network_features_type_0,\n",
    "    network_features_type_0,\n",
    "]"
   ]
  },
  {
   "cell_type": "code",
   "execution_count": 23,
   "id": "ed61782e-62b6-4048-823a-6902168e59ad",
   "metadata": {},
   "outputs": [],
   "source": [
    "def process_dataset(name, path, dataset, cn_measures, network_features):\n",
    "    print(\"Processing dataset: {}\".format(name))\n",
    "    new_path = os.path.join(\"fl_from_2_datasets\", \"preprocessed\", \"{}.parquet\".format(name))\n",
    "    graph_path = os.path.join(\"fl_from_2_datasets\", \"preprocessed\",\"graphs\",\"graph_{}.gexf\".format(name))\n",
    "    os.makedirs(os.path.dirname(new_path), exist_ok=True)\n",
    "    os.makedirs(os.path.dirname(graph_path), exist_ok=True)\n",
    "    \n",
    "    df = pd.read_parquet(path)\n",
    "    df.replace([np.inf, -np.inf], np.nan, inplace=True)\n",
    "    df.dropna(axis=0, how='any', inplace=True)\n",
    "    df.drop_duplicates(subset=list(set(df.columns) - set([dataset.timestamp_col, dataset.flow_id_col])), keep=\"first\", inplace=True)\n",
    "    \n",
    "    G = nx.from_pandas_edgelist(df, source=dataset.src_ip_col, target=dataset.dst_ip_col, create_using=nx.DiGraph())\n",
    "    G.remove_nodes_from(list(nx.isolates(G)))\n",
    "    for node in G.nodes():\n",
    "        G.nodes[node]['label'] = node\n",
    "    \n",
    "    G1 = ig.Graph.from_networkx(G)\n",
    "    labels = [G.nodes[node]['label'] for node in G.nodes()]\n",
    "    G1.vs['label'] = labels\n",
    "    \n",
    "    part = G1.community_infomap()\n",
    "    communities = []\n",
    "    for com in part:\n",
    "        communities.append([G1.vs[node_index]['label'] for node_index in com])\n",
    "    \n",
    "    community_labels = {}\n",
    "    for i, community in enumerate(communities):\n",
    "        for node in community:\n",
    "            community_labels[node] = i\n",
    "    \n",
    "    nx.set_node_attributes(G, community_labels, \"new_community\")\n",
    "    \n",
    "    intra_graph, inter_graph = separate_graph(G, communities)\n",
    "    \n",
    "    if \"betweenness\" in cn_measures:\n",
    "        nx.set_node_attributes(G, cal_betweenness_centrality(G), \"betweenness\")\n",
    "        print(\"calculated betweenness\")\n",
    "    if \"local_betweenness\" in cn_measures:\n",
    "        nx.set_node_attributes(G, cal_betweenness_centrality(intra_graph), \"local_betweenness\")\n",
    "        print(\"calculated local_betweenness\")\n",
    "    if \"global_betweenness\" in cn_measures:\n",
    "        nx.set_node_attributes(G, cal_betweenness_centrality(inter_graph), \"global_betweenness\")\n",
    "        print(\"calculated global_betweenness\")\n",
    "    if \"degree\" in cn_measures:\n",
    "        nx.set_node_attributes(G, nx.degree_centrality(G), \"degree\")\n",
    "        print(\"calculated degree\")\n",
    "    if \"local_degree\" in cn_measures:\n",
    "        nx.set_node_attributes(G, nx.degree_centrality(intra_graph), \"local_degree\")\n",
    "        print(\"calculated local_degree\")\n",
    "    if \"global_degree\" in cn_measures:\n",
    "        nx.set_node_attributes(G, nx.degree_centrality(inter_graph), \"global_degree\")\n",
    "        print(\"calculated global_degree\")\n",
    "    if \"eigenvector\" in cn_measures:\n",
    "        nx.set_node_attributes(G, nx.eigenvector_centrality(G, max_iter=600), \"eigenvector\")\n",
    "        print(\"calculated eigenvector\")\n",
    "    if \"local_eigenvector\" in cn_measures:\n",
    "        nx.set_node_attributes(G, nx.eigenvector_centrality(intra_graph), \"local_eigenvector\")\n",
    "        print(\"calculated local_eigenvector\")\n",
    "    if \"global_eigenvector\" in cn_measures:\n",
    "        nx.set_node_attributes(G, nx.eigenvector_centrality(inter_graph), \"global_eigenvector\")\n",
    "        print(\"calculated global_eigenvector\")\n",
    "    if \"closeness\" in cn_measures:\n",
    "        nx.set_node_attributes(G, nx.closeness_centrality(G), \"closeness\")\n",
    "        print(\"calculated closeness\")\n",
    "    if \"local_closeness\" in cn_measures:\n",
    "        nx.set_node_attributes(G, nx.closeness_centrality(intra_graph), \"local_closeness\")\n",
    "        print(\"calculated local_closeness\")\n",
    "    if \"global_closeness\" in cn_measures:\n",
    "        nx.set_node_attributes(G, nx.closeness_centrality(inter_graph), \"global_closeness\")\n",
    "        print(\"calculated global_closeness\")\n",
    "    if \"pagerank\" in cn_measures:\n",
    "        nx.set_node_attributes(G, nx.pagerank(G, alpha=0.85), \"pagerank\")\n",
    "        print(\"calculated pagerank\")\n",
    "    if \"local_pagerank\" in cn_measures:\n",
    "        nx.set_node_attributes(G, nx.pagerank(intra_graph, alpha=0.85), \"local_pagerank\")\n",
    "        print(\"calculated local_pagerank\")\n",
    "    if \"global_pagerank\" in cn_measures:\n",
    "        nx.set_node_attributes(G, nx.pagerank(inter_graph, alpha=0.85), \"global_pagerank\")\n",
    "        print(\"calculated global_pagerank\")\n",
    "    if \"k_core\" in cn_measures:\n",
    "        nx.set_node_attributes(G, cal_k_core(G), \"k_core\")\n",
    "        print(\"calculated k_core\")\n",
    "    if \"k_truss\" in cn_measures:\n",
    "        nx.set_node_attributes(G, cal_k_truss(G), \"k_truss\")\n",
    "        print(\"calculated k_truss\")\n",
    "    if \"Comm\" in cn_measures:\n",
    "        nx.set_node_attributes(G, comm_centreality(G, community_labels), \"Comm\")\n",
    "        print(\"calculated Comm\")\n",
    "    if \"mv\" in cn_measures:\n",
    "        nx.set_node_attributes(G, modularity_vitality(G1, part), \"mv\")\n",
    "        print(\"calculated mv\")\n",
    "    \n",
    "    nx.write_gexf(G, graph_path)\n",
    "    \n",
    "    features_dicts = {}\n",
    "    for measure in cn_measures:\n",
    "        features_dicts[measure] = nx.get_node_attributes(G, measure)\n",
    "        print(f\"==>> features_dicts: {measure , len(features_dicts[measure])}\")\n",
    "    \n",
    "    for feature in network_features:\n",
    "        if feature[:3] == \"src\":\n",
    "            df[feature] = df.apply(lambda row: features_dicts[feature[4:]].get(row[dataset.src_ip_col], -1), axis=1)\n",
    "        if feature[:3] == \"dst\":\n",
    "            df[feature] = df.apply(lambda row: features_dicts[feature[4:]].get(row[dataset.dst_ip_col], -1), axis=1)\n",
    "    \n",
    "    df.to_parquet(new_path)\n",
    "    print(f\"DataFrame written to {new_path}\")\n",
    "\n"
   ]
  },
  {
   "cell_type": "code",
   "execution_count": 24,
   "id": "0fed61f5-1abe-4226-b02d-971662c83243",
   "metadata": {},
   "outputs": [
    {
     "name": "stdout",
     "output_type": "stream",
     "text": [
      "Processing dataset: client_0\n",
      "calculated betweenness\n",
      "calculated degree\n",
      "calculated pagerank\n",
      "==>> features_dicts: ('betweenness', 51359)\n",
      "==>> features_dicts: ('degree', 51359)\n",
      "==>> features_dicts: ('pagerank', 51359)\n",
      "DataFrame written to fl_from_2_datasets\\preprocessed\\client_0.parquet\n",
      "Processing dataset: client_1\n",
      "calculated betweenness\n",
      "calculated degree\n",
      "calculated pagerank\n",
      "==>> features_dicts: ('betweenness', 188)\n",
      "==>> features_dicts: ('degree', 188)\n",
      "==>> features_dicts: ('pagerank', 188)\n",
      "DataFrame written to fl_from_2_datasets\\preprocessed\\client_1.parquet\n",
      "Processing dataset: client_2\n",
      "calculated betweenness\n",
      "calculated degree\n",
      "calculated pagerank\n",
      "==>> features_dicts: ('betweenness', 126)\n",
      "==>> features_dicts: ('degree', 126)\n",
      "==>> features_dicts: ('pagerank', 126)\n",
      "DataFrame written to fl_from_2_datasets\\preprocessed\\client_2.parquet\n",
      "Processing dataset: client_3\n",
      "calculated betweenness\n",
      "calculated degree\n",
      "calculated pagerank\n",
      "==>> features_dicts: ('betweenness', 157)\n",
      "==>> features_dicts: ('degree', 157)\n",
      "==>> features_dicts: ('pagerank', 157)\n",
      "DataFrame written to fl_from_2_datasets\\preprocessed\\client_3.parquet\n",
      "Processing dataset: client_4\n",
      "calculated betweenness\n",
      "calculated degree\n",
      "calculated pagerank\n",
      "==>> features_dicts: ('betweenness', 90653)\n",
      "==>> features_dicts: ('degree', 90653)\n",
      "==>> features_dicts: ('pagerank', 90653)\n",
      "DataFrame written to fl_from_2_datasets\\preprocessed\\client_4.parquet\n",
      "Processing dataset: client_5\n",
      "calculated betweenness\n",
      "calculated degree\n",
      "calculated pagerank\n",
      "==>> features_dicts: ('betweenness', 13104)\n",
      "==>> features_dicts: ('degree', 13104)\n",
      "==>> features_dicts: ('pagerank', 13104)\n",
      "DataFrame written to fl_from_2_datasets\\preprocessed\\client_5.parquet\n",
      "Processing dataset: client_6\n",
      "calculated betweenness\n",
      "calculated degree\n",
      "calculated pagerank\n",
      "==>> features_dicts: ('betweenness', 9812)\n",
      "==>> features_dicts: ('degree', 9812)\n",
      "==>> features_dicts: ('pagerank', 9812)\n",
      "DataFrame written to fl_from_2_datasets\\preprocessed\\client_6.parquet\n",
      "Processing dataset: client_7\n",
      "calculated betweenness\n",
      "calculated degree\n",
      "calculated pagerank\n",
      "==>> features_dicts: ('betweenness', 9239)\n",
      "==>> features_dicts: ('degree', 9239)\n",
      "==>> features_dicts: ('pagerank', 9239)\n",
      "DataFrame written to fl_from_2_datasets\\preprocessed\\client_7.parquet\n",
      "Processing dataset: test\n",
      "calculated betweenness\n",
      "calculated degree\n",
      "calculated pagerank\n",
      "==>> features_dicts: ('betweenness', 33573)\n",
      "==>> features_dicts: ('degree', 33573)\n",
      "==>> features_dicts: ('pagerank', 33573)\n",
      "DataFrame written to fl_from_2_datasets\\preprocessed\\test.parquet\n"
     ]
    }
   ],
   "source": [
    "def process_all_clients(clients_paths, folder_path_prep):\n",
    "    process_dataset(\"client_0\", clients_paths[0], datasets[0], cn_measures_types[0], network_features_types[0])\n",
    "    process_dataset(\"client_1\", clients_paths[1], datasets[0], cn_measures_types[1], network_features_types[1])\n",
    "    process_dataset(\"client_2\", clients_paths[2], datasets[0], cn_measures_types[2], network_features_types[2])\n",
    "    process_dataset(\"client_3\", clients_paths[3], datasets[0], cn_measures_types[3], network_features_types[3])\n",
    "    process_dataset(\"client_4\", clients_paths[4], datasets[0], cn_measures_types[4], network_features_types[4])\n",
    "    process_dataset(\"client_5\", clients_paths[5], datasets[1], cn_measures_types[5], network_features_types[5])\n",
    "    process_dataset(\"client_6\", clients_paths[6], datasets[1], cn_measures_types[6], network_features_types[6])\n",
    "    process_dataset(\"client_7\", clients_paths[7], datasets[1], cn_measures_types[7], network_features_types[7])\n",
    "    process_dataset(\"test\", clients_paths[8], datasets[1], cn_measures_types[8], network_features_types[8])\n",
    "    # for i, path in enumerate(clients_paths):\n",
    "    #     name = f\"client_{i}\" if i < len(clients_paths) - 1 else \"test\"\n",
    "    #     dataset = datasets[0] if i < 5 else datasets[1]\n",
    "    #     process_dataset(name, clients_paths[i], dataset, cn_measures_types[i], network_features_types[i])\n",
    "\n",
    "\n",
    "client_names = [\n",
    "    \"client_0.parquet\",\n",
    "    \"client_1.parquet\",\n",
    "    \"client_2.parquet\",\n",
    "    \"client_3.parquet\",\n",
    "    \"client_4.parquet\",\n",
    "    \"client_5.parquet\",\n",
    "    \"client_6.parquet\",\n",
    "    \"client_7.parquet\",\n",
    "    \"test.parquet\"\n",
    "]\n",
    "clients_paths = [os.path.join(folder_path, name) for name in client_names]\n",
    "\n",
    "\n",
    "process_all_clients(clients_paths, folder_path_prep)\n"
   ]
  },
  {
   "cell_type": "code",
   "execution_count": 25,
   "id": "b271faf2-c3b0-47d6-8288-04d60c3ed90a",
   "metadata": {},
   "outputs": [],
   "source": [
    "def process_clients_with_pca(clients_paths, network_features_types, output_folder):\n",
    "    def calculate_local_covariance(df, cn_measures):\n",
    "        centrality_data = df[cn_measures].fillna(0)\n",
    "        scaler = StandardScaler()\n",
    "        centrality_data_std = scaler.fit_transform(centrality_data)\n",
    "        covariance_matrix = np.cov(centrality_data_std, rowvar=False)\n",
    "        return covariance_matrix, scaler.mean_, scaler.scale_\n",
    "\n",
    "    def apply_local_pca(df, cn_measures, n_components=2):\n",
    "        centrality_data = df[cn_measures].fillna(0)\n",
    "        scaler = StandardScaler()\n",
    "        centrality_data_std = scaler.fit_transform(centrality_data)\n",
    "        pca = PCA(n_components=n_components)\n",
    "        centrality_data_pca = pca.fit_transform(centrality_data_std)\n",
    "        explained_variance = pca.explained_variance_ratio_\n",
    "        return explained_variance\n",
    "\n",
    "    def apply_global_pca(df, cn_measures, mean, scale, principal_components):\n",
    "        centrality_data = df[cn_measures].fillna(0)\n",
    "        centrality_data_std = (centrality_data - mean) / scale\n",
    "        centrality_data_pca = np.dot(centrality_data_std, principal_components)\n",
    "        pca_columns = [f'pca_{i+1}' for i in range(principal_components.shape[1])]\n",
    "        centrality_data_pca_df = pd.DataFrame(centrality_data_pca, columns=pca_columns, index=df.index)\n",
    "        return centrality_data_pca_df\n",
    "\n",
    "    local_covariances = []\n",
    "    local_means = []\n",
    "    local_scales = []\n",
    "    local_explained_variances = []\n",
    "\n",
    "    for i, client_path in enumerate(clients_paths):\n",
    "        df = pd.read_parquet(client_path)\n",
    "        cn_measures = network_features_types[i]\n",
    "        client_cn_measures = [measure for measure in cn_measures if measure in df.columns]\n",
    "        if len(client_cn_measures) == 0:\n",
    "            print(f\"No centrality measures found in client {i} data.\")\n",
    "            continue\n",
    "        covariance_matrix, mean, scale = calculate_local_covariance(df, client_cn_measures)\n",
    "        local_covariances.append(covariance_matrix)\n",
    "        local_means.append(mean)\n",
    "        local_scales.append(scale)\n",
    "        explained_variance = apply_local_pca(df, client_cn_measures)\n",
    "        local_explained_variances.append(explained_variance)\n",
    "\n",
    "    global_covariance_matrix = np.mean(local_covariances, axis=0)\n",
    "    eigen_values, eigen_vectors = np.linalg.eigh(global_covariance_matrix)\n",
    "    sorted_indices = np.argsort(eigen_values)[::-1]\n",
    "    eigen_values = eigen_values[sorted_indices]\n",
    "    eigen_vectors = eigen_vectors[:, sorted_indices]\n",
    "    n_components = 2\n",
    "    principal_components = eigen_vectors[:, :n_components]\n",
    "    explained_variances = eigen_values[:n_components] / np.sum(eigen_values)\n",
    "\n",
    "    os.makedirs(output_folder, exist_ok=True)\n",
    "    global_explained_variances = []\n",
    "\n",
    "    for i, client_path in enumerate(clients_paths):\n",
    "        df = pd.read_parquet(client_path)\n",
    "        cn_measures = network_features_types[i]\n",
    "        client_cn_measures = [measure for measure in cn_measures if measure in df.columns]\n",
    "        if len(client_cn_measures) == 0:\n",
    "            print(f\"No centrality measures found in client {i} data.\")\n",
    "            continue\n",
    "        centrality_data_pca_df = apply_global_pca(df, client_cn_measures, local_means[i], local_scales[i], principal_components)\n",
    "        # df_pca = pd.concat([df.drop(columns=client_cn_measures), centrality_data_pca_df], axis=1)\n",
    "        df_pca = pd.concat([df, centrality_data_pca_df], axis=1)\n",
    "        if i < len(clients_paths) - 1:\n",
    "            output_path = os.path.join(output_folder, f'client_{i}_pca.parquet')\n",
    "        else:\n",
    "            output_path = os.path.join(output_folder, 'test.parquet')\n",
    "        df_pca.to_parquet(output_path)\n",
    "        print(f'Processed PCA for {\"client\" if i < len(clients_paths) - 1 else \"test\"} {i}, saved to {output_path}')\n",
    "        \n",
    "        centrality_data_std = (df[client_cn_measures].fillna(0) - local_means[i]) / local_scales[i]\n",
    "        global_pca_transformed = np.dot(centrality_data_std, principal_components)\n",
    "        global_explained_variance = np.var(global_pca_transformed, axis=0) / np.var(centrality_data_std, axis=0).sum()\n",
    "        global_explained_variances.append(global_explained_variance)\n",
    "\n",
    "    plt.figure(figsize=(20, 12))\n",
    "\n",
    "    for i, explained_variance in enumerate(local_explained_variances):\n",
    "        plt.subplot(4, 4, i + 1)\n",
    "        plt.bar(range(1, len(explained_variance) + 1), explained_variance, alpha=0.7, label='Local PCA')\n",
    "        plt.bar(range(1, len(global_explained_variances[i]) + 1), global_explained_variances[i], alpha=0.7, label='Global PCA')\n",
    "        plt.title(f'Client {i} Explained Variance')\n",
    "        plt.xlabel('Principal Component')\n",
    "        plt.ylabel('Variance Explained')\n",
    "        plt.legend()\n",
    "\n",
    "    plt.tight_layout()\n",
    "    plt.show()"
   ]
  },
  {
   "cell_type": "code",
   "execution_count": 26,
   "id": "bb0f47cd-e546-4333-896c-e03b8df97c64",
   "metadata": {},
   "outputs": [
    {
     "name": "stdout",
     "output_type": "stream",
     "text": [
      "Processed PCA for client 0, saved to datasets_bdp\\client_0_pca.parquet\n",
      "Processed PCA for client 1, saved to datasets_bdp\\client_1_pca.parquet\n",
      "Processed PCA for client 2, saved to datasets_bdp\\client_2_pca.parquet\n",
      "Processed PCA for client 3, saved to datasets_bdp\\client_3_pca.parquet\n",
      "Processed PCA for client 4, saved to datasets_bdp\\client_4_pca.parquet\n",
      "Processed PCA for client 5, saved to datasets_bdp\\client_5_pca.parquet\n",
      "Processed PCA for client 6, saved to datasets_bdp\\client_6_pca.parquet\n",
      "Processed PCA for client 7, saved to datasets_bdp\\client_7_pca.parquet\n",
      "Processed PCA for test 8, saved to datasets_bdp\\test.parquet\n"
     ]
    },
    {
     "data": {
      "image/png": "[encoded data removed]",
      "text/plain": [
       "<Figure size 2000x1200 with 9 Axes>"
      ]
     },
     "metadata": {},
     "output_type": "display_data"
    },
    {
     "data": {
      "text/plain": [
       "'/labels_names.pkl'"
      ]
     },
     "execution_count": 26,
     "metadata": {},
     "output_type": "execute_result"
    }
   ],
   "source": [
    "folder_copy_file='fl_from_2_datasets/'\n",
    "folder_path = 'fl_from_2_datasets/preprocessed/'\n",
    "clients_paths = [\n",
    "    folder_path + \"client_0.parquet\",\n",
    "    folder_path + \"client_1.parquet\",\n",
    "    folder_path + \"client_2.parquet\",\n",
    "    folder_path + \"client_3.parquet\",\n",
    "    folder_path + \"client_4.parquet\",\n",
    "    folder_path + \"client_5.parquet\",\n",
    "    folder_path + \"client_6.parquet\",\n",
    "    folder_path + \"client_7.parquet\",\n",
    "    folder_path + \"test.parquet\",\n",
    "]\n",
    "\n",
    "# output_folder = 'datasets_pca_federated_new'\n",
    "output_folder = 'datasets_bdp'\n",
    "\n",
    "process_clients_with_pca(clients_paths, network_features_types, output_folder)\n",
    "shutil.copy(os.path.join(folder_copy_file, 'labels_names.pkl'), os.path.join(output_folder, '/labels_names.pkl'))"
   ]
  },
  {
   "cell_type": "code",
   "execution_count": null,
   "id": "fa3df23a-e842-4ee2-b8b0-55ae6f5d2844",
   "metadata": {},
   "outputs": [],
   "source": []
  }
 ],
 "metadata": {
  "kernelspec": {
   "display_name": "Python 3 (ipykernel)",
   "language": "python",
   "name": "python3"
  },
  "language_info": {
   "codemirror_mode": {
    "name": "ipython",
    "version": 3
   },
   "file_extension": ".py",
   "mimetype": "text/x-python",
   "name": "python",
   "nbconvert_exporter": "python",
   "pygments_lexer": "ipython3",
   "version": "3.11.4"
  }
 },
 "nbformat": 4,
 "nbformat_minor": 5
}
